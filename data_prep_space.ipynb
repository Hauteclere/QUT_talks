{
 "cells": [
  {
   "cell_type": "markdown",
   "metadata": {},
   "source": [
    "# Data Prep Space\n",
    "\n",
    "This notebook file is here to make it easier to modify data extract files to suit the requirements of the pipeline. Should mainly be used for converting formats and changing column names."
   ]
  },
  {
   "cell_type": "code",
   "execution_count": 112,
   "metadata": {},
   "outputs": [],
   "source": [
    "from dotenv import load_dotenv\n",
    "import psycopg2\n",
    "import os\n",
    "import sys\n",
    "from collections import defaultdict\n",
    "import pandas as pd\n",
    "from tqdm import tqdm\n",
    "from datetime import datetime\n",
    "import matplotlib.pyplot as plt\n",
    "from IPython.display import display, Markdown\n",
    "import re\n",
    "\n",
    "char_regex = re.compile(r'[^a-z]')"
   ]
  },
  {
   "cell_type": "code",
   "execution_count": 113,
   "metadata": {},
   "outputs": [],
   "source": [
    "load_dotenv()\n",
    "\n",
    "#-----------------------------------------------------------------------------#\n",
    "# DB connection\n",
    "\n",
    "conn = psycopg2.connect(\n",
    "    database=\"postgres\", \n",
    "    user='postgres', \n",
    "    password=os.environ[\"POSTGRES_PASSWORD\"], \n",
    "    host='127.0.0.1', \n",
    "    port= '5432'\n",
    ")\n"
   ]
  },
  {
   "cell_type": "code",
   "execution_count": 114,
   "metadata": {},
   "outputs": [],
   "source": [
    "\n",
    "def print_psycopg2_exception(err):\n",
    "    # get details about the exception\n",
    "    err_type, err_obj, traceback = sys.exc_info()\n",
    "\n",
    "    # get the line number when exception occured\n",
    "    line_num = traceback.tb_lineno\n",
    "\n",
    "    # print the connect() error\n",
    "    print(\"\\npsycopg2 ERROR:\", err, \"on line number:\", line_num)\n",
    "    print(\"psycopg2 traceback:\", traceback, \"-- type:\", err_type)\n",
    "\n",
    "    # psycopg2 extensions.Diagnostics object attribute\n",
    "    print(\"\\nextensions.Diagnostics:\", err.diag)\n",
    "\n",
    "    # print the pgcode and pgerror exceptions\n",
    "    print(\"pgerror:\", err.pgerror)\n",
    "    print(\"pgcode:\", err.pgcode, \"\\n\")\n",
    "\n",
    "def transaction_wrapper(func):\n",
    "    def wrapper(*args, **kwargs):\n",
    "        with conn: \n",
    "            with conn.cursor() as cur:\n",
    "                try:\n",
    "                    cur.execute(\"savepoint my_save_point\")\n",
    "                    return func(cur, *args, **kwargs)\n",
    "                except (psycopg2.DatabaseError) as error:\n",
    "                    print_psycopg2_exception(error)\n",
    "                    cur.execute(\"rollback to savepoint my_save_point\")\n",
    "                    raise\n",
    "                except Exception as e:\n",
    "                    cur.execute(\"rollback to savepoint my_save_point\")\n",
    "                    raise\n",
    "    return wrapper\n",
    "\n",
    "# Yes, this is redundant with the above. \n",
    "# Some repetition has been introduced into my queries \n",
    "# So tt's just easier to build them with f-strings. \n",
    "# We're not injecting user-supplied data so there's no security risk.\n",
    "# If you hate it go refactor the uses of the above function to use this instead\n",
    "@transaction_wrapper\n",
    "def execute_query_and_return(cur, some_query):\n",
    "    cur.execute(some_query)\n",
    "    return cur.fetchall()"
   ]
  },
  {
   "cell_type": "code",
   "execution_count": 115,
   "metadata": {},
   "outputs": [
    {
     "data": {
      "text/plain": [
       "' \\nprint(\"Extracting validation data for initial load...\") \\n\\nwith open(\"./queries/validation_join.sql\") as f:\\n    all_data = execute_query_and_return(f.read())\\n\\nall_people = defaultdict(lambda: [None for x in range(32)])\\n\\nfor person in tqdm(all_data):\\n    # QUT_IDENTITY_ID\\n    if pd.notna(person[1]):\\n        all_people[person[0]][1] = person[1]\\n\\n        # SOURCE_SYSTEM\\n    if pd.notna(person[2]):\\n        all_people[person[0]][2] = person[2]\\n        \\n        # SOURCE_SYSTEM_ID\\n    if pd.notna(person[3]):\\n        all_people[person[0]][3] = person[3]\\n\\n        # ACCESS_NAME\\n    if pd.notna(person[4]):\\n        all_people[person[0]][4] = person[4]\\n\\n        # TITLE\\n    if pd.notna(person[5]):\\n        all_people[person[0]][5] = person[5]\\n\\n        # GIVEN_NAME\\n    if pd.notna(person[6]):\\n        all_people[person[0]][6] = person[6]\\n\\n        # OTHER_NAME3\\n    if pd.notna(person[7]):\\n        all_people[person[0]][7] = person[7]\\n        \\n        # FAMILY_NAME\\n    if pd.notna(person[8]):\\n        all_people[person[0]][8] = person[8]\\n\\n        # FULL_NAME\\n    if pd.notna(person[9]):\\n        all_people[person[0]][9] = person[9]\\n\\n        # PREFERRED_GIVEN_NAME\\n    if pd.notna(person[10]):\\n        all_people[person[0]][10] = person[10]\\n\\n        # DOB\\n    if pd.notna(person[11]):\\n        all_people[person[0]][11] = person[11]\\n        \\n        # GENDER\\n    if pd.notna(person[12]):\\n        all_people[person[0]][12] = person[12]\\n\\n        # PER_EMAIL_ADDR\\n    if pd.notna(person[13]):\\n        all_people[person[0]][13] = person[13]\\n        \\n        # STU_EMAIL_ADDR\\n    if pd.notna(person[14]):\\n        all_people[person[0]][14] = person[14]\\n\\n        # WORK_EMAIL_ADDR\\n    if pd.notna(person[15]):\\n        all_people[person[0]][15] = person[15]\\n\\n        # PHONE_PERS\\n    if pd.notna(person[16]):\\n        all_people[person[0]][16] = person[16]\\n        \\n        # PHONE_WORK\\n    if pd.notna(person[17]):\\n        all_people[person[0]][17] = person[17]\\n\\n        # PHONE_MOBILE\\n    if pd.notna(person[18]):\\n        all_people[person[0]][18] = person[18]\\n\\n        # WORK_MOBILE\\n    if pd.notna(person[19]):\\n        all_people[person[0]][19] = person[19]\\n\\n    # 20-25 are:\\n    # ADDR1_HOME\\n    # ADDR2_HOME\\n    # ADDR3_HOME\\n    # STATE_HOME\\n    # COUNTRY_HOME\\n    # POSTCODE_HOME\\n    if any(pd.notna(x) for x in person[20:26]):\\n        all_people[person[0]][20:26] = person[20:26]\\n    \\n    # 26-31 are:\\n    # ADDR1_POST\\n    # ADDR2_POST\\n    # ADDR3_POST\\n    # STATE_POST\\n    # COUNTRY_POST\\n    # POSTCODE_POST\\n    if any(pd.notna(x) for x in person[26:32]):\\n        all_people[person[0]][26:32] = person[26:32]\\n\\noutput = pd.DataFrame.from_dict(\\n    all_people, \\n    orient=\\'index\\',\\n    dtype=str, \\n    columns=[\\n        \"to_drop\",\\n        \"QUT_IDENTITY_ID\", \\n        \"SOURCE_SYSTEM\", \\n        \"SOURCE_SYSTEM_ID\", \\n        \"ACCESS_NAME\",\\n        \"TITLE\",\\n        \"GIVEN_NAME\", \\n        \"OTHER_NAME\",\\n        \"FAMILY_NAME\",\\n        \"FULL_NAME\",\\n        \"PREFERRED_GIVEN_NAME\",\\n        \"DOB\", \\n        \"GENDER\",\\n        \"PER_EMAIL_ADDR\", \\n        \"STU_EMAIL_ADDR\",\\n        \"WORK_EMAIL_ADDR\",\\n        \"PHONE_PERS\",\\n        \"PHONE_WORK\",\\n        \"PHONE_MOBILE\",\\n        \"WORK_MOBILE\",\\n        \"ADDR1_HOME\",\\n        \"ADDR2_HOME\",\\n        \"ADDR3_HOME\",\\n        \"STATE_HOME\",\\n        \"COUNTRY_HOME\",\\n        \"POSTCODE_HOME\",\\n        \"ADDR1_POST\",\\n        \"ADDR2_POST\",\\n        \"ADDR3_POST\",\\n        \"STATE_POST\",\\n        \"COUNTRY_POST\",\\n        \"POSTCODE_POST\"\\n    ])\\n\\noutput.drop(columns=[\"to_drop\"], inplace=True)\\n\\noutput.to_csv(\"./raw_data/validation_join.csv\", index=False) '"
      ]
     },
     "execution_count": 115,
     "metadata": {},
     "output_type": "execute_result"
    }
   ],
   "source": [
    "\"\"\" \n",
    "print(\"Extracting validation data for initial load...\") \n",
    "\n",
    "with open(\"./queries/validation_join.sql\") as f:\n",
    "    all_data = execute_query_and_return(f.read())\n",
    "\n",
    "all_people = defaultdict(lambda: [None for x in range(32)])\n",
    "\n",
    "for person in tqdm(all_data):\n",
    "    # QUT_IDENTITY_ID\n",
    "    if pd.notna(person[1]):\n",
    "        all_people[person[0]][1] = person[1]\n",
    "\n",
    "        # SOURCE_SYSTEM\n",
    "    if pd.notna(person[2]):\n",
    "        all_people[person[0]][2] = person[2]\n",
    "        \n",
    "        # SOURCE_SYSTEM_ID\n",
    "    if pd.notna(person[3]):\n",
    "        all_people[person[0]][3] = person[3]\n",
    "\n",
    "        # ACCESS_NAME\n",
    "    if pd.notna(person[4]):\n",
    "        all_people[person[0]][4] = person[4]\n",
    "\n",
    "        # TITLE\n",
    "    if pd.notna(person[5]):\n",
    "        all_people[person[0]][5] = person[5]\n",
    "\n",
    "        # GIVEN_NAME\n",
    "    if pd.notna(person[6]):\n",
    "        all_people[person[0]][6] = person[6]\n",
    "\n",
    "        # OTHER_NAME3\n",
    "    if pd.notna(person[7]):\n",
    "        all_people[person[0]][7] = person[7]\n",
    "        \n",
    "        # FAMILY_NAME\n",
    "    if pd.notna(person[8]):\n",
    "        all_people[person[0]][8] = person[8]\n",
    "\n",
    "        # FULL_NAME\n",
    "    if pd.notna(person[9]):\n",
    "        all_people[person[0]][9] = person[9]\n",
    "\n",
    "        # PREFERRED_GIVEN_NAME\n",
    "    if pd.notna(person[10]):\n",
    "        all_people[person[0]][10] = person[10]\n",
    "\n",
    "        # DOB\n",
    "    if pd.notna(person[11]):\n",
    "        all_people[person[0]][11] = person[11]\n",
    "        \n",
    "        # GENDER\n",
    "    if pd.notna(person[12]):\n",
    "        all_people[person[0]][12] = person[12]\n",
    "\n",
    "        # PER_EMAIL_ADDR\n",
    "    if pd.notna(person[13]):\n",
    "        all_people[person[0]][13] = person[13]\n",
    "        \n",
    "        # STU_EMAIL_ADDR\n",
    "    if pd.notna(person[14]):\n",
    "        all_people[person[0]][14] = person[14]\n",
    "\n",
    "        # WORK_EMAIL_ADDR\n",
    "    if pd.notna(person[15]):\n",
    "        all_people[person[0]][15] = person[15]\n",
    "\n",
    "        # PHONE_PERS\n",
    "    if pd.notna(person[16]):\n",
    "        all_people[person[0]][16] = person[16]\n",
    "        \n",
    "        # PHONE_WORK\n",
    "    if pd.notna(person[17]):\n",
    "        all_people[person[0]][17] = person[17]\n",
    "\n",
    "        # PHONE_MOBILE\n",
    "    if pd.notna(person[18]):\n",
    "        all_people[person[0]][18] = person[18]\n",
    "\n",
    "        # WORK_MOBILE\n",
    "    if pd.notna(person[19]):\n",
    "        all_people[person[0]][19] = person[19]\n",
    "\n",
    "    # 20-25 are:\n",
    "    # ADDR1_HOME\n",
    "    # ADDR2_HOME\n",
    "    # ADDR3_HOME\n",
    "    # STATE_HOME\n",
    "    # COUNTRY_HOME\n",
    "    # POSTCODE_HOME\n",
    "    if any(pd.notna(x) for x in person[20:26]):\n",
    "        all_people[person[0]][20:26] = person[20:26]\n",
    "    \n",
    "    # 26-31 are:\n",
    "    # ADDR1_POST\n",
    "    # ADDR2_POST\n",
    "    # ADDR3_POST\n",
    "    # STATE_POST\n",
    "    # COUNTRY_POST\n",
    "    # POSTCODE_POST\n",
    "    if any(pd.notna(x) for x in person[26:32]):\n",
    "        all_people[person[0]][26:32] = person[26:32]\n",
    "\n",
    "output = pd.DataFrame.from_dict(\n",
    "    all_people, \n",
    "    orient='index',\n",
    "    dtype=str, \n",
    "    columns=[\n",
    "        \"to_drop\",\n",
    "        \"QUT_IDENTITY_ID\", \n",
    "        \"SOURCE_SYSTEM\", \n",
    "        \"SOURCE_SYSTEM_ID\", \n",
    "        \"ACCESS_NAME\",\n",
    "        \"TITLE\",\n",
    "        \"GIVEN_NAME\", \n",
    "        \"OTHER_NAME\",\n",
    "        \"FAMILY_NAME\",\n",
    "        \"FULL_NAME\",\n",
    "        \"PREFERRED_GIVEN_NAME\",\n",
    "        \"DOB\", \n",
    "        \"GENDER\",\n",
    "        \"PER_EMAIL_ADDR\", \n",
    "        \"STU_EMAIL_ADDR\",\n",
    "        \"WORK_EMAIL_ADDR\",\n",
    "        \"PHONE_PERS\",\n",
    "        \"PHONE_WORK\",\n",
    "        \"PHONE_MOBILE\",\n",
    "        \"WORK_MOBILE\",\n",
    "        \"ADDR1_HOME\",\n",
    "        \"ADDR2_HOME\",\n",
    "        \"ADDR3_HOME\",\n",
    "        \"STATE_HOME\",\n",
    "        \"COUNTRY_HOME\",\n",
    "        \"POSTCODE_HOME\",\n",
    "        \"ADDR1_POST\",\n",
    "        \"ADDR2_POST\",\n",
    "        \"ADDR3_POST\",\n",
    "        \"STATE_POST\",\n",
    "        \"COUNTRY_POST\",\n",
    "        \"POSTCODE_POST\"\n",
    "    ])\n",
    "\n",
    "output.drop(columns=[\"to_drop\"], inplace=True)\n",
    "\n",
    "output.to_csv(\"./raw_data/validation_join.csv\", index=False) \"\"\""
   ]
  },
  {
   "cell_type": "code",
   "execution_count": 116,
   "metadata": {},
   "outputs": [],
   "source": [
    "# output[output[\"QUT_IDENTITY_ID\"]==\"641dc0d5-e89b-43c6-bf55-8757fc894487\"].PHONE_MOBILE"
   ]
  },
  {
   "cell_type": "code",
   "execution_count": 117,
   "metadata": {},
   "outputs": [],
   "source": [
    "dobs = [dob[0] for dob in execute_query_and_return(\"SELECT DOB FROM RAW_DATA;\")]"
   ]
  },
  {
   "cell_type": "code",
   "execution_count": 118,
   "metadata": {},
   "outputs": [],
   "source": [
    "given_names = (name[0] for name in execute_query_and_return(\"SELECT given_name FROM RAW_DATA;\") if name[0] is not None)"
   ]
  },
  {
   "cell_type": "code",
   "execution_count": 119,
   "metadata": {},
   "outputs": [],
   "source": [
    "family_names = (name[0] for name in execute_query_and_return(\"SELECT family_name FROM RAW_DATA;\") if name[0] is not None)"
   ]
  },
  {
   "cell_type": "code",
   "execution_count": 120,
   "metadata": {},
   "outputs": [],
   "source": [
    "full_names = ((name[0], name[1]) for name in execute_query_and_return(\"SELECT given_name, family_name FROM RAW_DATA;\") if name[0] is not None and name[1] is not None)"
   ]
  },
  {
   "cell_type": "code",
   "execution_count": 121,
   "metadata": {},
   "outputs": [],
   "source": [
    "full_names_and_dobs = [\n",
    "    (person[0], person[1], person[2]) \n",
    "    for person in execute_query_and_return(\n",
    "        \"SELECT given_name, family_name, dob FROM RAW_DATA;\"\n",
    "    ) if person[0] is not None \n",
    "        and person[1] is not None \n",
    "        and person[2] is not None\n",
    "]"
   ]
  },
  {
   "cell_type": "code",
   "execution_count": 123,
   "metadata": {},
   "outputs": [
    {
     "data": {
      "text/plain": [
       "<matplotlib.collections.PathCollection at 0x7fad96473c10>"
      ]
     },
     "execution_count": 123,
     "metadata": {},
     "output_type": "execute_result"
    },
    {
     "data": {
      "image/png": "[encoded data removed]",
      "text/plain": [
       "<Figure size 640x480 with 1 Axes>"
      ]
     },
     "metadata": {},
     "output_type": "display_data"
    }
   ],
   "source": [
    "cutoffdate = datetime(year=1903, month=1, day=1).date()\n",
    "\n",
    "dob_counts = defaultdict(lambda: 0)\n",
    "\n",
    "for dob in dobs:\n",
    "    if dob is not None and dob>cutoffdate:\n",
    "        dob_counts[dob]+=1\n",
    "\n",
    "dob_counts = sorted(list(dob_counts.items()), key=lambda item: item[0])\n",
    "\n",
    "plt.scatter(\n",
    "    [x[0] for x in dob_counts], \n",
    "    [y[1] for y in dob_counts], \n",
    "    alpha=0.5,\n",
    "    s=0.5\n",
    "    )"
   ]
  },
  {
   "cell_type": "code",
   "execution_count": 124,
   "metadata": {},
   "outputs": [
    {
     "data": {
      "text/markdown": [
       "## Top 1000 Given Names By Count"
      ],
      "text/plain": [
       "<IPython.core.display.Markdown object>"
      ]
     },
     "metadata": {},
     "output_type": "display_data"
    },
    {
     "data": {
      "text/plain": [
       "[<matplotlib.lines.Line2D at 0x7fad7b436950>]"
      ]
     },
     "execution_count": 124,
     "metadata": {},
     "output_type": "execute_result"
    },
    {
     "data": {
      "image/png": "[encoded data removed]",
      "text/plain": [
       "<Figure size 640x480 with 1 Axes>"
      ]
     },
     "metadata": {},
     "output_type": "display_data"
    }
   ],
   "source": [
    "import re\n",
    "display(Markdown(\"## Top 1000 Given Names By Count\"))\n",
    "given_counts = defaultdict(lambda: 0)\n",
    "\n",
    "for name in given_names:\n",
    "    if bool(re.sub(char_regex, '', name.lower())):\n",
    "        given_counts[re.sub(char_regex, '', name.lower())]+=1\n",
    "\n",
    "given_counts = [(index, item[1]) for index, item in enumerate(sorted(list(given_counts.items()), key=lambda item: item[1]))][-1000:]\n",
    "\n",
    "plt.plot(\n",
    "    [x[0] for x in given_counts], \n",
    "    [y[1] for y in given_counts], \n",
    "    'bo-',\n",
    "    alpha=0.5,\n",
    "    markersize=3\n",
    ")\n",
    "\n",
    "\n",
    "\n"
   ]
  },
  {
   "cell_type": "code",
   "execution_count": 125,
   "metadata": {},
   "outputs": [
    {
     "data": {
      "text/markdown": [
       "## Top 1000 Family Names By Count"
      ],
      "text/plain": [
       "<IPython.core.display.Markdown object>"
      ]
     },
     "metadata": {},
     "output_type": "display_data"
    },
    {
     "data": {
      "text/plain": [
       "[<matplotlib.lines.Line2D at 0x7fad94f61450>]"
      ]
     },
     "execution_count": 125,
     "metadata": {},
     "output_type": "execute_result"
    },
    {
     "data": {
      "image/png": "[encoded data removed]",
      "text/plain": [
       "<Figure size 640x480 with 1 Axes>"
      ]
     },
     "metadata": {},
     "output_type": "display_data"
    }
   ],
   "source": [
    "display(Markdown(\"## Top 1000 Family Names By Count\"))\n",
    "family_counts = defaultdict(lambda: 0)\n",
    "\n",
    "for name in family_names:\n",
    "    if bool(re.sub(char_regex, '', name.lower())):\n",
    "        family_counts[re.sub(char_regex, '', name.lower())]+=1\n",
    "\n",
    "family_counts = [(index, item[1]) for index, item in enumerate(sorted(list(family_counts.items()), key=lambda item: item[1]))][-1000:]\n",
    "\n",
    "plt.plot(\n",
    "    [x[0] for x in family_counts], \n",
    "    [y[1] for y in family_counts], \n",
    "    'bo-',\n",
    "    alpha=0.5,\n",
    "    markersize=3\n",
    ")"
   ]
  },
  {
   "cell_type": "code",
   "execution_count": 126,
   "metadata": {},
   "outputs": [
    {
     "data": {
      "text/markdown": [
       "## Top 1000 Full Names Counted By Discrete Birthdays Between 1980 and 2000"
      ],
      "text/plain": [
       "<IPython.core.display.Markdown object>"
      ]
     },
     "metadata": {},
     "output_type": "display_data"
    },
    {
     "data": {
      "text/plain": [
       "[<matplotlib.lines.Line2D at 0x7fad96512850>]"
      ]
     },
     "execution_count": 126,
     "metadata": {},
     "output_type": "execute_result"
    },
    {
     "data": {
      "image/png": "[encoded data removed]",
      "text/plain": [
       "<Figure size 640x480 with 1 Axes>"
      ]
     },
     "metadata": {},
     "output_type": "display_data"
    }
   ],
   "source": [
    "birthday_dict = defaultdict(lambda: set())\n",
    "\n",
    "for person in full_names_and_dobs:\n",
    "    birthday_dict[f\"{re.sub(char_regex, '', person[0].lower())}{re.sub(char_regex, '', person[1].lower())}\"].add(person[2])\n",
    "\n",
    "person_count_dict = {name: len(birthday_set) for name, birthday_set in birthday_dict.items()}\n",
    "\n",
    "person_counts_list = [(index, value) for index, value in enumerate(sorted(list(person_count_dict.values())))][-1000:]\n",
    "\n",
    "display(Markdown(\"## Top 1000 Full Names Counted By Discrete Birthdays Between 1980 and 2000\"))\n",
    "\n",
    "plt.plot(\n",
    "    [x[0] for x in person_counts_list], \n",
    "    [y[1] for y in person_counts_list], \n",
    "    'bo-',\n",
    "    alpha=0.5,\n",
    "    markersize=3\n",
    ")\n",
    "\n",
    "\n",
    "\n",
    "\n"
   ]
  },
  {
   "cell_type": "code",
   "execution_count": 127,
   "metadata": {},
   "outputs": [
    {
     "data": {
      "text/markdown": [
       "## Naive Collision Probabilities"
      ],
      "text/plain": [
       "<IPython.core.display.Markdown object>"
      ]
     },
     "metadata": {},
     "output_type": "display_data"
    },
    {
     "name": "stdout",
     "output_type": "stream",
     "text": [
      "harpreetsingh appears ~77 times overall -> 8.528319120629025% chance of collision\n",
      "gurpreetsingh appears ~74 times overall -> 7.898928934963479% chance of collision\n",
      "amandeepkaur appears ~83 times overall -> 9.848528638786735% chance of collision\n",
      "ramandeepkaur appears ~61 times overall -> 5.421687707609124% chance of collision\n",
      "mandeepkaur appears ~57 times overall -> 4.744968856816234% chance of collision\n",
      "jaspreetkaur appears ~55 times overall -> 4.422284989352776% chance of collision\n",
      "harpreetkaur appears ~75 times overall -> 8.106401667347429% chance of collision\n",
      "manpreetsingh appears ~69 times overall -> 6.89713383813928% chance of collision\n",
      "sandeepkaur appears ~70 times overall -> 7.092692369803466% chance of collision\n",
      "manpreetkaur appears ~108 times overall -> 16.14512750322773% chance of collision\n"
     ]
    }
   ],
   "source": [
    "display(Markdown(\"## Naive Collision Probabilities\"))\n",
    "def collision_probability(num_peeps):\n",
    "    chance_ok = 1\n",
    "    for x in range(num_peeps):\n",
    "        chance_ok = chance_ok * ((32850-x)/32850)\n",
    "    return (1-chance_ok)*100\n",
    "\n",
    "total = sum(person_count_dict.values())\n",
    "\n",
    "top_ten = {name: count for name, count in person_count_dict.items() if count>=person_counts_list[-10][1]}\n",
    "\n",
    "for name, count in top_ten.items():\n",
    "    print(f\"{name} appears ~{count} times overall -> {collision_probability(count)}% chance of collision\")"
   ]
  },
  {
   "cell_type": "code",
   "execution_count": null,
   "metadata": {},
   "outputs": [],
   "source": [
    "early_cutoffdate = datetime(year=1980, month=1, day=1).date()\n",
    "late_cutoffdate = datetime(year=2000, month=12, day=31).date()\n",
    "\n",
    "dob_counts = defaultdict(lambda: 0)\n",
    "\n",
    "for dob in dobs:\n",
    "    if dob is not None and dob>cutoffdate:\n",
    "        dob_counts[dob]+=1\n",
    "\n",
    "dob_counts = sorted(list(dob_counts.items()), key=lambda item: item[0])\n",
    "\n",
    "plt.scatter(\n",
    "    [x[0] for x in dob_counts], \n",
    "    [y[1] for y in dob_counts], \n",
    "    alpha=0.5,\n",
    "    s=0.5\n",
    "    )"
   ]
  },
  {
   "cell_type": "code",
   "execution_count": 129,
   "metadata": {},
   "outputs": [
    {
     "data": {
      "text/markdown": [
       "## Realistic Collision Probabilities"
      ],
      "text/plain": [
       "<IPython.core.display.Markdown object>"
      ]
     },
     "metadata": {},
     "output_type": "display_data"
    },
    {
     "name": "stdout",
     "output_type": "stream",
     "text": [
      "gurpreetsingh appears ~64 times in the ~7300 days between 1980 and 2000-> 24.192172610138797% chance of collision\n",
      "amandeepkaur appears ~79 times in the ~7300 days between 1980 and 2000-> 34.52984696069768% chance of collision\n",
      "ramandeepkaur appears ~55 times in the ~7300 days between 1980 and 2000-> 18.448282386718382% chance of collision\n",
      "mandeepkaur appears ~54 times in the ~7300 days between 1980 and 2000-> 17.840527383804062% chance of collision\n",
      "harpreetsingh appears ~64 times in the ~7300 days between 1980 and 2000-> 24.192172610138797% chance of collision\n",
      "harpreetkaur appears ~65 times in the ~7300 days between 1980 and 2000-> 24.85678917903621% chance of collision\n",
      "manpreetsingh appears ~64 times in the ~7300 days between 1980 and 2000-> 24.192172610138797% chance of collision\n",
      "jaspreetkaur appears ~50 times in the ~7300 days between 1980 and 2000-> 15.480575542801866% chance of collision\n",
      "sandeepkaur appears ~68 times in the ~7300 days between 1980 and 2000-> 26.876550096122862% chance of collision\n",
      "manpreetkaur appears ~101 times in the ~7300 days between 1980 and 2000-> 50.09143061424316% chance of collision\n"
     ]
    }
   ],
   "source": [
    "birthday_dict = defaultdict(lambda: set())\n",
    "\n",
    "for person in full_names_and_dobs:\n",
    "    if datetime(year=1980, month=1, day=1).date() < person[2] < datetime(year=2000, month=12, day=31).date():\n",
    "        birthday_dict[f\"{re.sub(char_regex, '', person[0].lower())}{re.sub(char_regex, '', person[1].lower())}\"].add(person[2])\n",
    "\n",
    "person_count_dict = {name: len(birthday_set) for name, birthday_set in birthday_dict.items()}\n",
    "\n",
    "person_counts_list = [(index, value) for index, value in enumerate(sorted(list(person_count_dict.values())))][-1000:]\n",
    "\n",
    "display(Markdown(\"## Realistic Collision Probabilities\"))\n",
    "def collision_probability(num_peeps):\n",
    "    chance_ok = 1\n",
    "    for x in range(num_peeps):\n",
    "        chance_ok = chance_ok * ((7300-x)/7300)\n",
    "    return (1-chance_ok)*100\n",
    "\n",
    "total = sum(person_count_dict.values())\n",
    "\n",
    "top_ten = {name: count for name, count in person_count_dict.items() if count>=person_counts_list[-10][1]}\n",
    "\n",
    "for name, count in top_ten.items():\n",
    "    print(f\"{name} appears ~{count} times in the ~7300 days between 1980 and 2000-> {collision_probability(count)}% chance of collision\")\n"
   ]
  },
  {
   "cell_type": "code",
   "execution_count": null,
   "metadata": {},
   "outputs": [],
   "source": []
  },
  {
   "cell_type": "code",
   "execution_count": null,
   "metadata": {},
   "outputs": [],
   "source": []
  }
 ],
 "metadata": {
  "kernelspec": {
   "display_name": "venv",
   "language": "python",
   "name": "python3"
  },
  "language_info": {
   "codemirror_mode": {
    "name": "ipython",
    "version": 3
   },
   "file_extension": ".py",
   "mimetype": "text/x-python",
   "name": "python",
   "nbconvert_exporter": "python",
   "pygments_lexer": "ipython3",
   "version": "3.11.7"
  }
 },
 "nbformat": 4,
 "nbformat_minor": 2
}
